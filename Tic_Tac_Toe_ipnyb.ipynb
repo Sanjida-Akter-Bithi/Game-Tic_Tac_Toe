{
  "nbformat": 4,
  "nbformat_minor": 0,
  "metadata": {
    "colab": {
      "provenance": [],
      "authorship_tag": "ABX9TyPyE/UzKSyh08OCaPaXjQWJ",
      "include_colab_link": true
    },
    "kernelspec": {
      "name": "python3",
      "display_name": "Python 3"
    },
    "language_info": {
      "name": "python"
    }
  },
  "cells": [
    {
      "cell_type": "markdown",
      "metadata": {
        "id": "view-in-github",
        "colab_type": "text"
      },
      "source": [
        "<a href=\"https://colab.research.google.com/github/Sanjida-Akter-Bithi/Game-Tic_Tac_Toe/blob/main/Tic_Tac_Toe_ipnyb.ipynb\" target=\"_parent\"><img src=\"https://colab.research.google.com/assets/colab-badge.svg\" alt=\"Open In Colab\"/></a>"
      ]
    },
    {
      "cell_type": "code",
      "source": [
        "from pickle import FALSE\n",
        "from IPython.display import clear_output\n",
        "import time\n",
        "#All the variables needed\n",
        "board = [[1,2,3],[4,5,6],[7,8,9]] #The players will be placing their characters in this list\n",
        "#and the whole game be conducted based on the current status of this list.\n",
        "current_player_char = 'X' #The character of the current player\n",
        "next_player_char = 'O' # The character of the next player\n",
        "totalInputs = 9 #Since there are 9 slots in total in the whole board.\n",
        "winner = None\n",
        "\n",
        "def checkHorizontal():\n",
        "    global winner\n",
        "    for row in board:\n",
        "        if row[0] == row[1] == row[2]:  # Check if all elements in a row are the same\n",
        "            winner = \"Player 1\" if row[0] == 'X' else \"Player 2\"  # Determine the winner based on the symbol\n",
        "            return True  # Horizontal win found\n",
        "    return False  # No horizontal win\n",
        "#Remove the pass statement and write your code.\n",
        "\n",
        "def checkVertical():\n",
        "    global winner\n",
        "    for col in range(3):\n",
        "        if board[0][col] == board[1][col] == board[2][col]:  # Check if all elements in a column are the same\n",
        "            winner = \"Player 1\" if board[0][col] == 'X' else \"Player 2\"  # Determine the winner based on the symbol\n",
        "            return True  # Vertical win found\n",
        "    return False  # No vertical win\n",
        "#Remove the pass statement and write your code.\n",
        "\n",
        "def checkDiagonal():\n",
        "    global winner\n",
        "    if board[0][0] == board[1][1] == board[2][2]:  # Check diagonal from top-left to bottom-right\n",
        "        winner = \"Player 1\" if board[0][0] == 'X' else \"Player 2\"  # Determine the winner based on the symbol\n",
        "        return True  # Diagonal win found\n",
        "    if board[0][2] == board[1][1] == board[2][0]:  # Check diagonal from top-right to bottom-left\n",
        "        winner = \"Player 1\" if board[0][2] == 'X' else \"Player 2\"  # Determine the winner based on the symbol\n",
        "        return True  # Diagonal win found\n",
        "    return False  # No diagonal win\n",
        " #Remove the pass statement and write your code.\n",
        "\n",
        "\n",
        "def checkBoard():\n",
        "    if checkHorizontal() or checkVertical() or checkDiagonal():\n",
        "        return True  # There is a win\n",
        "    elif sum(board[i].count('X') + board[i].count('O') for i in range(3)) == 9:\n",
        "        return False  # The board is full (game ended in a draw)\n",
        "    return False  # Game is ongoing\n",
        " #Remove the pass statement and write your code.\n",
        "\n",
        "def placeCharacterOnBoard(position):\n",
        "    global current_player_char\n",
        "    row = (position - 1) // 3  # Calculate the row index\n",
        "    col = (position - 1) % 3  # Calculate the column index\n",
        "\n",
        "    if board[row][col] != 'X' and board[row][col] != 'O':  # Check if the position is not already occupied\n",
        "        board[row][col] = current_player_char  # Place the character on the board\n",
        "        return 1  # Valid move, return 1\n",
        "    else:\n",
        "        print(\"Invalid position. Please enter a valid position.\")\n",
        "        return 0  # Invalid move, return 0\n",
        " # Invalid move, return 0\n",
        " #Remove the pass statement and write your code.\n",
        "\n",
        "#This function prints the current status of the 'board' list in particular format.\n",
        "def printCurrentBoard():\n",
        "  print(\"-------------\")\n",
        "  for eachRow in board:\n",
        "    print(\"|\",end=\"\")\n",
        "    for eachCol in eachRow:\n",
        "      print(f\" {eachCol} \",end=\"|\")\n",
        "    print() #To move to the next row\n",
        "    print(\"-------------\")\n",
        "\n",
        "#This function will be simulating the whole game.\n",
        "def runGame():\n",
        "  global current_player_char\n",
        "  global next_player_char\n",
        "  global winner\n",
        "  welcome_msg = '''Welcome to the TIC-TAC-TOE game. The first player to place character on the board will be Player 1(Character X) and the other player will be Player 2(Character O).'''\n",
        "  print(welcome_msg)\n",
        "  inputCount= 0 #This variable is for counting the number of inputs and controlling the loop based on it.\n",
        "  while inputCount < totalInputs:\n",
        "    printCurrentBoard() #This function prints the current state of the board as a player needs to see it before making the next move.\n",
        "    position = int(input(f\"Player {(inputCount%2)+1},enter a position that does not contain any X or O:\")) #The user needs to enter a position that does contain any X or O.\n",
        "    validityofInput = placeCharacterOnBoard(position) #validityofInput will be 1 if the user inputs a valid \"position\"; otherwise it will be 0.\n",
        "    inputCount+= validityofInput # If the inputs a valid \"position\", the inputCount will increase by one; otherwise it will remain as it is.\n",
        "    if inputCount>=5: #There is no need to check the board before 5 valid inputs as there will be no winners before 5 valid inputs.\n",
        "      if checkBoard(): #If checkBoard() returned True then current player won the game.\n",
        "        winner = \"Player 1\" if current_player_char == 'X' else \"Player 2\"\n",
        "        clear_output() #This function clears the output panel.\n",
        "        break\n",
        "    if validityofInput: #Only if the player inputs a valid \"position\", the player characters will be swapped for the next move.\n",
        "      current_player_char,next_player_char = next_player_char,current_player_char #The players will place characters alternatively. So if X is the current player's character, in the next turn O will be the current player's character.\n",
        "    clear_output() #This function clears the output panel before printing the current board status for the next player.\n",
        "  printCurrentBoard()\n",
        "  #After the while loop if the value of  winner is still none, that means the game ended in a draw; otherwise we have a winner.\n",
        "  if winner != None:\n",
        "    print(f\"Well done, {winner}. You have won the game.\")\n",
        "  else:\n",
        "    print(f\"The game ended in a draw\")\n",
        "\n",
        "\n",
        "runGame()\n"
      ],
      "metadata": {
        "colab": {
          "base_uri": "https://localhost:8080/"
        },
        "id": "PWn_Rq5-majz",
        "outputId": "23179765-76c2-445e-d902-441bcabe1e96"
      },
      "execution_count": null,
      "outputs": [
        {
          "output_type": "stream",
          "name": "stdout",
          "text": [
            "-------------\n",
            "| X | X | O |\n",
            "-------------\n",
            "| O | O | X |\n",
            "-------------\n",
            "| X | O | X |\n",
            "-------------\n",
            "The game ended in a draw\n"
          ]
        }
      ]
    }
  ]
}